{
 "cells": [
  {
   "cell_type": "code",
   "execution_count": 1,
   "metadata": {},
   "outputs": [],
   "source": [
    "import sys\n",
    "from collections import Counter\n",
    "\n",
    "import numpy as np\n",
    "import matplotlib.pyplot as plt\n",
    "\n",
    "sys.path.append(\"..\")\n",
    "from hypergraphx.communities.hy_mmsbm.model import HyMMSBM\n",
    "from hypergraphx.core.temporal_hypergraph import TemporalHypergraph\n",
    "from hypergraphx.generation.hy_mmsbm_sampling import HyMMSBMSampler\n",
    "from hypergraphx.linalg.linalg import *\n",
    "from hypergraphx.dynamics.randwalk import *\n",
    "from hypergraphx.generation.activity_driven import *\n",
    "import random"
   ]
  },
  {
   "cell_type": "code",
   "execution_count": 2,
   "metadata": {},
   "outputs": [],
   "source": [
    "def rnd_pwl(xmin, xmax, g, size=1):\n",
    "    r = np.random.random(size=size)\n",
    "    return (r*( xmax**(1.-g) - xmin**(1.-g) ) + xmin**(1.-g) )**(1./(1.-g))\n",
    "\n",
    "orders = [1,2,5]\n",
    "beta_act = 2.25\n",
    "eps = 0.001\n",
    "N = 100\n",
    "activities = rnd_pwl(eps, 1.0, beta_act, N) \n",
    "activities_per_order = {order: activities for order in orders}"
   ]
  },
  {
   "cell_type": "code",
   "execution_count": 3,
   "metadata": {},
   "outputs": [],
   "source": [
    "HG = HOADmodel(N, activities_per_order, time=100)"
   ]
  },
  {
   "cell_type": "code",
   "execution_count": 4,
   "metadata": {},
   "outputs": [
    {
     "data": {
      "text/plain": [
       "array([0.00184511, 0.00104984, 0.00130019, 0.00136053, 0.00212081,\n",
       "       0.00101966, 0.00450326, 0.00183635, 0.00213232, 0.00604709,\n",
       "       0.02049493, 0.06063978, 0.00115072, 0.00102768, 0.00154998,\n",
       "       0.00512195, 0.00106242, 0.00240399, 0.00161403, 0.0021101 ,\n",
       "       0.00108735, 0.00117853, 0.00209695, 0.00148863, 0.00127259,\n",
       "       0.0015629 , 0.00119753, 0.00593316, 0.00164438, 0.0025526 ,\n",
       "       0.00146953, 0.00126799, 0.00197169, 0.00109552, 0.00110906,\n",
       "       0.00302179, 0.00235649, 0.00172001, 0.00122276, 0.00154769,\n",
       "       0.00206473, 0.00114612, 0.00119496, 0.00163759, 0.00737349,\n",
       "       0.00141757, 0.00247088, 0.0014401 , 0.00103414, 0.00131641,\n",
       "       0.05099248, 0.01456677, 0.00133641, 0.00197582, 0.00110043,\n",
       "       0.00168518, 0.00123957, 0.00283065, 0.00102546, 0.00206445,\n",
       "       0.00148372, 0.00171031, 0.00475447, 0.00113089, 0.00108802,\n",
       "       0.00162886, 0.00110896, 0.00225237, 0.00114714, 0.00212408,\n",
       "       0.00288508, 0.00125707, 0.00103907, 0.00190049, 0.00164475,\n",
       "       0.00175689, 0.00107307, 0.00218808, 0.00162656, 0.00121219,\n",
       "       0.00623252, 0.00346235, 0.00101643, 0.00150798, 0.00233801,\n",
       "       0.00161239, 0.00113024, 0.01397657, 0.01261414, 0.00138454,\n",
       "       0.00345643, 0.00297803, 0.00125118, 0.00159646, 0.00175065,\n",
       "       0.0103935 , 0.00181882, 0.0031129 , 0.00127588, 0.00181248])"
      ]
     },
     "execution_count": 4,
     "metadata": {},
     "output_type": "execute_result"
    }
   ],
   "source": [
    "activities_per_order[1]"
   ]
  }
 ],
 "metadata": {
  "kernelspec": {
   "display_name": "hgx-installation",
   "language": "python",
   "name": "python3"
  },
  "language_info": {
   "codemirror_mode": {
    "name": "ipython",
    "version": 3
   },
   "file_extension": ".py",
   "mimetype": "text/x-python",
   "name": "python",
   "nbconvert_exporter": "python",
   "pygments_lexer": "ipython3",
   "version": "3.9.17"
  },
  "orig_nbformat": 4
 },
 "nbformat": 4,
 "nbformat_minor": 2
}
